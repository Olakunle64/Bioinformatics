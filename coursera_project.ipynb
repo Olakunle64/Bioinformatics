{
 "cells": [
  {
   "cell_type": "markdown",
   "metadata": {},
   "source": [
    "(1) How many records are in the file? A record in a FASTA file is defined as a single-line header, followed by lines of sequence data. The header line is distinguished from the sequence data by a greater-than (\">\") symbol in the first column. The word following the \">\" symbol is the identifier of the sequence, and the rest of the line is an optional description of the entry. There should be no space between the \">\" and the first letter of the identifier. "
   ]
  },
  {
   "cell_type": "code",
   "execution_count": 5,
   "metadata": {},
   "outputs": [
    {
     "data": {
      "text/plain": [
       "25"
      ]
     },
     "execution_count": 5,
     "metadata": {},
     "output_type": "execute_result"
    }
   ],
   "source": [
    "def record_count_in_fasta(filename):\n",
    "    \"\"\"return the number of records in a fasta file\"\"\"\n",
    "    count = 0\n",
    "    with open(filename, \"r\") as f:\n",
    "        lines = f.readlines()\n",
    "        for line in lines:\n",
    "            if line.startswith(\">\"):\n",
    "                count += 1\n",
    "        # print(\"record count\", count)\n",
    "        return count\n",
    "\n",
    "record_count_in_fasta(\"dna.example.fasta\")"
   ]
  },
  {
   "cell_type": "markdown",
   "metadata": {},
   "source": [
    "2. What are the lengths of the sequences in the file? What is the longest sequence and what is the shortest sequence? Is there more than one longest or shortest sequence? What are their identifiers? "
   ]
  },
  {
   "cell_type": "code",
   "execution_count": 69,
   "metadata": {},
   "outputs": [
    {
     "name": "stdout",
     "output_type": "stream",
     "text": [
      "longest_sequence {'>gi|142022655|gb|EQ086233.1|323 marine metagenome JCVI_SCAF_1096627390048 genomic scaffold, whole genome shotgun sequence': 'ACGCCCGGCGCACCGCGAGTACCGCGCCGCCGGGCACTCCTTGACCCCGCATGATCGATTCCCGATGAAACCCGAAAACCTCGTCGCCTGCCACGAATGCGACCTGCTGTTTTGGCGGCCGCCGCGCTTGCGCGCGCTGGCTGCGCACTGCCCGAGGTGCCGTGCCCGCGTGGGCGGCAGCGCGCACGGCCGTCCGGCGCTCGACCGGCGGTGCGCGATCGCGCTCGCCGCGCTGTTCACGCTCTTCATCGCGCAGGCCTTTCCCATCGTCGCGCTCGACGCCGCCGGCATCGCATCGCACGCGACGCTGGCCGACGCGGTGGCCGCGTTGCGCTTGAACGGGCAACCGGCGGTGGCGGCGATCGTGTTCTGCACGACGATGTTGTTCCCGCTGCTGGAACTCGCCGCGTGGCTGTACGTGCTCGTACCGTTGCGCGCGGGCCGCGTACCGCCCCGCTTCGAGCCGGTCCTGCGCAACATGCAGCGGCTGCGCCCGTGGAGCATGGTCGAGGTGTTCCTGCTCGGCATCCTGGTCACGATCGTCAAGATGACGAGCCTCGCGCACGTGATACCGGGCCCCGCGCTGTTTGCGTTCGGCGCCCTCACCGTGTTGCTCGGCTTTCTCGCGTCATTCGACCCGGGCGGCCTGTGGGAAGCGCGCGACGAAATCATCGCGCTGCGCGGCGGCGGTACGTCCGCCGCGGTATCGCGCCGGCGGCACACGCCGCGACGCGCTGCACCGGTGACGCCCGACACAGCGGACGCAACGAACGCGACCGGCGCGACCGGGCGCCACCGCTCGGCAAGCGTCACGGCCCGCGCCGCGGGGCTGGTCGCATGTCATACCTGCGGACGCGTGCAACCGCATACCGAAGCCGCCGACGCGCGCTGCACGCGCTGCGGTTCGACGCTGCACGAACGCCGCCCGCGCAGCGCCGCACGCACGGGCGCGCTCGTCATCGCGGCCGCGCTTCTCTACATCCCGGCGAACCTGCTGCCCATCATGCATGCGACCTCGCTCGGCCGCGCCGAGGACGACACCATTCTCGCCGGCGTCGCGTACTTCTGGACGTCCGGCGACTGGCCGCTCGCCGTCGTCGTGTTCGTCGCGAGCGTGCTCGTGCCGATGCTCAAGCTCGCGATTCTCGCGTTGCAGGCCATTGCCGCGCATCGCGGCACGCCATGGCGCCCGCTGGAACGCGCGCGGCTCCATCGACTGGTGGAGCGCGTGGGCCGCTGGTCGATGCTCGACGTGTTCGTCGTCGCACTGACGATCGCGCTCGTGCATTTCGGTTCGTTCGCCGAGATCACGCCCGGCCCCGGCGCACTGGCATTCGGCGCAGTGGTCGTGCTCACCATGTGTGCGTCGATGCAGTTCGATCCGCGACTCATCTGGGACGGCGCGCACCGCTGCGCCGCCAGCCCTCGATCCTGAACGGGCGCAAGCCCGTCACAACGCTACGTCCATTCACAAGATGCTTCCCCTCGATTTGCCTGAACCCGAGATCCGGCCGCGCAGCCGCTGGATCCCGTCCCTCGTCTGGATCGTGCCGCTCGTGTGCGCGCTGATCGGGCTGGCGCTCGTGTACCGCGGCATTGCCGCGACCGGCCCGACGATCACCGTCACGTTCGCGAACGCAGAAGGCCTCGAAGCCGGAAAGACCAAGGTCCGTTACAAGGACGTCGATATCGGCTCGGTGCAGGCCATCACGCTCACGCCCGACTTCAAGCGCGTGGTCGTGCGCATCCAGCTCACCAAGGACGCCGCGCAGTTCGCGAACCGCGATACGCGATTCTGGGTCGTTCGGCCGCGTATCGGCGCCACCGGTATCTCCGGGCTCGGCACGCTGCTCTCCGGCGCGTACATCGGTGCGGACCTCGGCCGCTCGCCGCACGAACAGACCGACTTCGCCGGACTCGAGACACCGCCCGCCGTCACCGCGGACCAGCAGGGCCGCCGCTACCTGCTGCACGGCGATTCGCTCGGCTCGATCGACATCGGCTCGCCGGTGTTCTATCGGCACCTGCAGGTCGGCCAGGTGGTCGGCTTCTCGCTCGACAAGGATGGCACGGGCGTCGACGTGCAAGCGTTCGTGAAGGCGCCGTACGACAAATACGTCGGCACCCAAACGCGCTGGTGGCACGCAAGCGGCTTGGACCTGCGGCTCGATTCGAACGGCCTGAAGCTGAACACGCAATCGCTCGCGACGGTGGTCGTCGGCGGCCTCGCGTTTCAGTCGCCGCCCGGGCAAGCCGATGCACCGCCGGCAGCCGACAACGCGTCGTTCCGGCTCGCGCAGGACGAAGCCGATGCGATGCGCGACCCCGACGGCACGCCGCTGATGGTCGTCATGCGCTTCGACCAGTCGCTGCGCGGACTGTCCGTCGGCGCGCCGGTCGATTTGCGCGGCATCGCGCTCGGTCAGGTCACGAACATCGGGATCGAGTACAACGAGCACTCGCGCACGTTCAGCATGAAGGTCACGATGGCGCTGTATCCGTCGAGACTGAGCCGGCACAGCGACACCGCGCTGCCGGCCCCCGATACGGCCGGCGGCCACGACCTCCTCGAGCACCTGGTGCTGCAGGGGCTGCGCGGGCAGTTGCGCACCGGCAGCCTGCTCACGGGCCAGTTGTACGTGGCGCTCGACATGTTCCCGAAAGCGCCGCGCGCGAGCGTGGACGTGCACCGCACGCCGGTCGAGCTGCCGACCGTTCCGAACACGCTCGACGAACTGCAGGTTCAGCTCGCCGACATCGCTCGGAAGCTCGACAAGGTTCCATTCGACCAGATCGGCAACAGCCTGAACGGTGCGCTCGAGCATGCGAACCAGTTGTTCGGACACCTCGACGAGCAAGTCGTGCCGCAGGCGCGCGACACGCTGGCGGCGGCGCAACGCACGTTCGACGCCGCGCAGGCGACGCTGCGGCAGGATTCGCCGATGCAATCGGACGTTCATGACGCGATGCAATCGCTCACGCAGACGCTCCAGTCGCTCAATACGCTGGCCGACTATCTCGAGCGGCATCCGGAAGCGCTGCTCTTCGGCAAGAAAGGAGAACCGAAATGACGCCGCATTCGTTTCGCACGTTCCGGATGCCGATCCGCATCGCGACGTGCATCGCGCTGGCCGTGCTCGGCGCCTGTACGTCGCCGCCCGTACGGTTCCATACGCTCGGGATGGCGGATGGCGCGGGCGGCGACACCGACGCCTCGCGTCCCGCATGGCTGATCGACATGCAGCGCGTGCACGTGGCGGCGCCGGCGGACGGCAACCGGCTCGCGGTGCAGCGCGGCCCCGAACGGGTCGACATCCTGGAACAGGAGCGCTGGGTTGCGCCGCTCGGCGACGAGATGCGCGACGGACTGTCGACGCGCGTCACGTCCCGGCTGAACACGTTCGACGTTCACCGCGTCGCTCATCCGGATGGCACGCCGGTCTATCGGGTCGCCGTGGACGTCCAGCGTGTCGAATCGTGGCCGGCGTCTCACGTGCTGCTCGATGCGACGTGGACGGTGGACGCCGGCTCAGGACAGCCGGCACTGACTTGCCGCAGCATCGTTCGGGCCGGTGCGTCGGCGGGCTACGACGCGCTCGTCGACGCGCATCGCCATGCGCTCGACACGCTCGCGCTCGGCATCGCCGCCGGCATTCGCGCGGCGGCCACGCACGCGCCGCCGCCCGCCGGATGCCGCGCGGGAACACCCGACCGACGGATCGCGCCAGCCACCGCCGAACGCGGCGCGCCGGATCCGCTCATCGATTGAATCGGGCAGGGAAAACGCGCGGCCGGGCCGGGTCGGGTCGGGTTGGGCGATCGGCCTCGCGCCGGTGCCCTGCCCGACCCAGCGACATCGTCAGGCGAAACCGTCCCGACGAACCACGAATCGGCGCGGCGGCGTTCCCGCGTCGATCCGGTATTTCGCGCGGCGCGGTGTTGCGCCGCTTCGATCATTTCCACCTGCATGGACCACCCTGGATGAAACCCGCCCGACTCACGCGCGAGCAACGCAGGCTCGACACCCGCGAACGGCTCATCGCTACCGCTCGCGCACTATTCATCGCGAAAGGCTTTGCCGATACGAGCGTCGAACATATCGCCGAGGGCGCCGGGTACACGCGCGGCGCGTTCTATGCGCACTTCGAACACAAGCGCGAGCTGTTGATCGAGATCCTTCGCCGCGACCATGATCGAATGCTCACGAAAGGTCGGCTAGTGGCACCGGTGAGCGGCAGCGCCTGCACCACGGCCGACTACGCGGAGATTGCCGCCGGCTGGGAATGTTTCCCGCTGTGGGTCGAGGTTCATCTGTACGCGCTGCGCGATGCCGGGTTTCGGCACATCGTCGACTGCCTGCACACCGAACCCGCCGCGCTACCGGAGACCACAAGCGGCACGGCGGGCGCCACCGATCGGATGCCGTCCGCGGCCGGCTGGGCGGCCGCGCTCGGCGTCGCACTGCTGAGCACCGGCGCGCGGGATGCCCGGCGCGACGATCCGGCGTAGCAAGCAGCCACGCGAGCGCCCGTTCGCCCCATCGCCCCGGCTATAATTTCAATCGTTCCCCGACGAGTATCCGCACAATGACGGACGCCAACCTTCCTCACGTGCTGGTAGTCGACGACGATCCGGCAATCCGCGAACTGCTGTCCGGCTATCTGTCCGACAACGACATCCGCGTGACGGTAGCCGATTCCGGCCAGGAAATGGCGGGCGCGCTGGACACCTTTGCAATCGATCTCGTGATTCTCGACCTGCGCATGCCGGGAGAAGACGGCGTGCAGATCGCCCGCGAGCTGCGC'}\n",
      "shortest sequence {'>gi|142022655|gb|EQ086233.1|521 marine metagenome JCVI_SCAF_1096627390048 genomic scaffold, whole genome shotgun sequence': 'CGTTGTTCGCCAGGTCGTCCGCATAGCCGGCCGAGCTGAACTGCGTGACATACGGGCGAATCTTCTTCAGCACGTCGTAGGCAGCCTGGTAGTCGGCCGGGTTCTTGCTCTCCGGGTCCTTGCCCATGTACTGCAGCGCCGCCGCGAACGCGGCGTCCGGCGCGTCGAGCAGCGAGATGCCGCAGCCCTTCAGCTTCGCCGCGTTCGCCGGGTCGAACAGCAGCGCCCAGCTGTCGGTCGGTGCGTTGTCGCCGAGCCGCTTCCTGACCGCCTCGACGTTGTAGCCGATCCCCGTCGTGCCCCACGCCCACGGCACACCGTACTGGTTGCCCGGGTCGGCCTTCGCGACCATCTTCATCAGCACCGGGTCGAGGTTCGCGAGATTCGGCAGCTTCGACTTGTCGAGCTTCTGGTACACGCCGGCCTGGATCTGCTGCGCGAGATAGTTCGACGTCGGCACGACGATGTCGTAGCCCGAGCTGCCCGCAAGCAGCTTCGTCTGCAGCGTATCG'}\n"
     ]
    }
   ],
   "source": [
    "def find_all_minimum_seq(seq_dict):\n",
    "    \"\"\"Find the shortest sequence(s) in a fasta file\n",
    "    \n",
    "        return both the identifier and the sequence as a key/value pair\n",
    "    \"\"\"\n",
    "    minimum_values = {}\n",
    "    if not seq_dict:\n",
    "        return minimum_values\n",
    "    new_dict = {key: len(value) for key, value in seq_dict.items()}\n",
    "    keys = new_dict.keys()\n",
    "    values = new_dict.values()\n",
    "    min_value = min(values)\n",
    "    for key, value in new_dict.items():\n",
    "        if value == min_value:\n",
    "            minimum_values[key] = seq_dict.get(key)\n",
    "    \n",
    "    return minimum_values\n",
    "\n",
    "def find_all_maximum_seq(seq_dict):\n",
    "    \"\"\"Find the longest sequence(s) in a fasta file\n",
    "    \n",
    "        return both the identifier and the sequence as a key/value pair\n",
    "    \"\"\"\n",
    "    maximum_values = {}\n",
    "    if not seq_dict:\n",
    "        return maximum_values\n",
    "    new_dict = {key: len(value) for key, value in seq_dict.items()}\n",
    "    keys = new_dict.keys()\n",
    "    values = new_dict.values()\n",
    "    max_value = max(values)\n",
    "    for key, value in new_dict.items():\n",
    "        if value == max_value:\n",
    "            maximum_values[key] = seq_dict.get(key)\n",
    "    \n",
    "    return maximum_values\n",
    "\n",
    "def get_sequence(filename):\n",
    "    \"\"\"Get all sequence in a fasta file\n",
    "    \n",
    "        use the identifer as the key and the sequence as\n",
    "        the value\n",
    "        \n",
    "        return a dictionary\n",
    "    \"\"\"\n",
    "    seq_dict = {}\n",
    "    with open(filename, \"r\") as f:\n",
    "        lines = f.readlines()\n",
    "        for line in lines:\n",
    "            if line.startswith(\">\"):\n",
    "                identifier = line.strip('\\n')\n",
    "                seq_dict[identifier] = \"\"\n",
    "                # print(line)\n",
    "                continue\n",
    "            # print(line)\n",
    "            seq_dict[identifier] += line.strip('\\n')\n",
    "        return seq_dict\n",
    "\n",
    "seq_dict = get_sequence(\"dna.example.fasta\")\n",
    "longest_sequence = find_all_maximum_seq(seq_dict)\n",
    "shortest_sequence = find_all_minimum_seq(seq_dict)\n",
    "print(\"longest_sequence\", longest_sequence)\n",
    "print(\"shortest sequence\", shortest_sequence)\n",
    "            \n",
    "            \n"
   ]
  },
  {
   "cell_type": "markdown",
   "metadata": {},
   "source": [
    "These are called reading frames 1, 2, and 3 respectively. An open reading frame (ORF) is the part of a reading frame that has the potential to encode a protein. It starts with a start codon (ATG), and ends with a stop codon (TAA, TAG or TGA). For instance, ATGAAATAG is an ORF of length 9.\n",
    "Given an input reading frame on the forward strand (1, 2, or 3) your program should be able to identify all ORFs present in each sequence of the FASTA file, and answer the following questions: what is the length of the longest ORF in the file? What is the identifier of the sequence containing the longest ORF? For a given sequence identifier, what is the longest ORF contained in the sequence represented by that identifier? What is the starting position of the longest ORF in the sequence that contains it? The position should indicate the character number in the sequence. For instance, the following ORF in reading frame 1:"
   ]
  },
  {
   "cell_type": "code",
   "execution_count": 91,
   "metadata": {},
   "outputs": [
    {
     "name": "stdout",
     "output_type": "stream",
     "text": [
      "all ORF in the fasta file {'>gi|142022655|gb|EQ086233.1|43 marine metagenome JCVI_SCAF_1096627390048 genomic scaffold, whole genome shotgun sequence': 10, '>gi|142022655|gb|EQ086233.1|160 marine metagenome JCVI_SCAF_1096627390048 genomic scaffold, whole genome shotgun sequence': 10, '>gi|142022655|gb|EQ086233.1|41 marine metagenome JCVI_SCAF_1096627390048 genomic scaffold, whole genome shotgun sequence': 50, '>gi|142022655|gb|EQ086233.1|221 marine metagenome JCVI_SCAF_1096627390048 genomic scaffold, whole genome shotgun sequence': 42, '>gi|142022655|gb|EQ086233.1|294 marine metagenome JCVI_SCAF_1096627390048 genomic scaffold, whole genome shotgun sequence': 43, '>gi|142022655|gb|EQ086233.1|323 marine metagenome JCVI_SCAF_1096627390048 genomic scaffold, whole genome shotgun sequence': 40, '>gi|142022655|gb|EQ086233.1|564 marine metagenome JCVI_SCAF_1096627390048 genomic scaffold, whole genome shotgun sequence': 13, '>gi|142022655|gb|EQ086233.1|521 marine metagenome JCVI_SCAF_1096627390048 genomic scaffold, whole genome shotgun sequence': 9, '>gi|142022655|gb|EQ086233.1|455 marine metagenome JCVI_SCAF_1096627390048 genomic scaffold, whole genome shotgun sequence': 197, '>gi|142022655|gb|EQ086233.1|229 marine metagenome JCVI_SCAF_1096627390048 genomic scaffold, whole genome shotgun sequence': 68, '>gi|142022655|gb|EQ086233.1|422 marine metagenome JCVI_SCAF_1096627390048 genomic scaffold, whole genome shotgun sequence': 21, '>gi|142022655|gb|EQ086233.1|384 marine metagenome JCVI_SCAF_1096627390048 genomic scaffold, whole genome shotgun sequence': 110, '>gi|142022655|gb|EQ086233.1|280 marine metagenome JCVI_SCAF_1096627390048 genomic scaffold, whole genome shotgun sequence': 14, '>gi|142022655|gb|EQ086233.1|158 marine metagenome JCVI_SCAF_1096627390048 genomic scaffold, whole genome shotgun sequence': 35, '>gi|142022655|gb|EQ086233.1|59 marine metagenome JCVI_SCAF_1096627390048 genomic scaffold, whole genome shotgun sequence': 85, '>gi|142022655|gb|EQ086233.1|319 marine metagenome JCVI_SCAF_1096627390048 genomic scaffold, whole genome shotgun sequence': 30, '>gi|142022655|gb|EQ086233.1|438 marine metagenome JCVI_SCAF_1096627390048 genomic scaffold, whole genome shotgun sequence': 22, '>gi|142022655|gb|EQ086233.1|210 marine metagenome JCVI_SCAF_1096627390048 genomic scaffold, whole genome shotgun sequence': 33, '>gi|142022655|gb|EQ086233.1|237 marine metagenome JCVI_SCAF_1096627390048 genomic scaffold, whole genome shotgun sequence': 10, '>gi|142022655|gb|EQ086233.1|507 marine metagenome JCVI_SCAF_1096627390048 genomic scaffold, whole genome shotgun sequence': 17, '>gi|142022655|gb|EQ086233.1|350 marine metagenome JCVI_SCAF_1096627390048 genomic scaffold, whole genome shotgun sequence': 17, '>gi|142022655|gb|EQ086233.1|245 marine metagenome JCVI_SCAF_1096627390048 genomic scaffold, whole genome shotgun sequence': 23, '>gi|142022655|gb|EQ086233.1|279 marine metagenome JCVI_SCAF_1096627390048 genomic scaffold, whole genome shotgun sequence': 52, '>gi|142022655|gb|EQ086233.1|378 marine metagenome JCVI_SCAF_1096627390048 genomic scaffold, whole genome shotgun sequence': 26, '>gi|142022655|gb|EQ086233.1|101 marine metagenome JCVI_SCAF_1096627390048 genomic scaffold, whole genome shotgun sequence': 129}\n"
     ]
    },
    {
     "data": {
      "text/plain": [
       "{'>gi|142022655|gb|EQ086233.1|455 marine metagenome JCVI_SCAF_1096627390048 genomic scaffold, whole genome shotgun sequence': 197}"
      ]
     },
     "execution_count": 91,
     "metadata": {},
     "output_type": "execute_result"
    }
   ],
   "source": [
    "def find_maximum_values(my_dict):\n",
    "    \"\"\"return maximum value(s) of a dict including their key\"\"\"\n",
    "    maximums = {}\n",
    "    keys = my_dict.keys()\n",
    "    values = my_dict.values()\n",
    "    max_value = max(values)\n",
    "    for key, value in my_dict.items():\n",
    "        if value == max_value:\n",
    "            maximums[key] = my_dict.get(key)\n",
    "    return maximums\n",
    "\n",
    "def longest_orf(filename):\n",
    "    \"\"\"find the longest ORF in a fasta file\"\"\"\n",
    "    seq_dict = get_sequence(\"dna.example.fasta\")\n",
    "    length_of_orfs = {}\n",
    "    for identifier, sequence, in seq_dict.items():\n",
    "        start_codon = {}\n",
    "        stop_codon = {}\n",
    "        index = 0\n",
    "        while index < len(sequence):\n",
    "            if sequence[index: index + 3] == \"ATG\":\n",
    "                index_of_start_codon = index\n",
    "                index += 3\n",
    "                j = index\n",
    "                while j < len(sequence):\n",
    "                    if sequence[j: j + 3] in [\"TAA\", \"TAG\", \"TGA\"]:\n",
    "                        index_of_stop_codon = j\n",
    "                        length_of_orfs[identifier] = len(sequence[index_of_start_codon:index_of_stop_codon + 3])\n",
    "                        index += 3\n",
    "                        break\n",
    "                    j += 1\n",
    "            index += 1\n",
    "    print(\"all ORF in the fasta file\", length_of_orfs)\n",
    "    return find_maximum_values(length_of_orfs)\n",
    "\n",
    "\n",
    "longest_orf(\"dna.example.fasta\")\n",
    "\n",
    "        "
   ]
  },
  {
   "cell_type": "code",
   "execution_count": 90,
   "metadata": {},
   "outputs": [
    {
     "data": {
      "text/plain": [
       "197"
      ]
     },
     "execution_count": 90,
     "metadata": {},
     "output_type": "execute_result"
    }
   ],
   "source": [
    "def get_longest_orf_of_sequence(identifier, filename):\n",
    "    \"\"\"find the longest of sequence that belongs to identifier\"\"\"\n",
    "    seq_dict = get_sequence(filename)\n",
    "    length_of_orfs = []\n",
    "    maximum_orfs = {}\n",
    "    index = 0\n",
    "    if not seq_dict.get(identifier):\n",
    "        return 0\n",
    "    sequence = seq_dict.get(identifier)\n",
    "    while index < len(sequence):\n",
    "        if sequence[index: index + 3] == \"ATG\":\n",
    "            index_of_start_codon = index\n",
    "            index += 3\n",
    "            j = index\n",
    "            while j < len(sequence):\n",
    "                if sequence[j: j + 3] in [\"TAA\", \"TAG\", \"TGA\"]:\n",
    "                    index_of_stop_codon = j\n",
    "                    length_of_orfs.append(len(sequence[index_of_start_codon:index_of_stop_codon + 3]))\n",
    "                    index += 3\n",
    "                    break\n",
    "                j += 1\n",
    "        index += 1\n",
    "    return max(length_of_orfs)\n",
    "\n",
    "get_longest_orf_of_sequence(\">gi|142022655|gb|EQ086233.1|455 marine metagenome JCVI_SCAF_1096627390048 genomic scaffold, whole genome shotgun sequence\", \"dna.example.fasta\")"
   ]
  },
  {
   "cell_type": "markdown",
   "metadata": {},
   "source": [
    "(4) A repeat is a substring of a DNA sequence that occurs in multiple copies (more than one) somewhere in the sequence. Although repeats can occur on both the forward and reverse strands of the DNA sequence, we will only consider repeats on the forward strand here. Also we will allow repeats to overlap themselves. For example, the sequence ACACA contains two copies of the sequence ACA - once at position 1 (index 0 in Python), and once at position 3. Given a length n, your program should be able to identify all repeats of length n in all sequences in the FASTA file. Your program should also determine how many times each repeat occurs in the file, and which is the most frequent repeat of a given length."
   ]
  },
  {
   "cell_type": "code",
   "execution_count": 89,
   "metadata": {},
   "outputs": [
    {
     "name": "stdout",
     "output_type": "stream",
     "text": [
      "Most frequent repeat {'GCG': 215}\n"
     ]
    },
    {
     "data": {
      "text/plain": [
       "{'TCG': 179,\n",
       " 'CGG': 148,\n",
       " 'GGG': 68,\n",
       " 'GGC': 145,\n",
       " 'GCG': 215,\n",
       " 'CGA': 191,\n",
       " 'GAA': 86,\n",
       " 'AAG': 49,\n",
       " 'AGG': 59,\n",
       " 'GCA': 113,\n",
       " 'CAG': 89,\n",
       " 'AGC': 95,\n",
       " 'CAA': 46,\n",
       " 'AGT': 37,\n",
       " 'GTC': 84,\n",
       " 'CGT': 101,\n",
       " 'TCC': 60,\n",
       " 'CCA': 63,\n",
       " 'CAC': 88,\n",
       " 'ACG': 110,\n",
       " 'CGC': 212,\n",
       " 'ACC': 68,\n",
       " 'CCG': 148,\n",
       " 'GCC': 132,\n",
       " 'CCT': 49,\n",
       " 'CTC': 56,\n",
       " 'TCT': 35,\n",
       " 'CTG': 97,\n",
       " 'TGC': 108,\n",
       " 'GTG': 69,\n",
       " 'GCT': 100,\n",
       " 'CTT': 44,\n",
       " 'TTG': 49,\n",
       " 'TGG': 74,\n",
       " 'CAT': 75,\n",
       " 'ATG': 73,\n",
       " 'GAT': 103,\n",
       " 'ATC': 104,\n",
       " 'GGA': 70,\n",
       " 'TCA': 62,\n",
       " 'AAA': 28,\n",
       " 'TGA': 60,\n",
       " 'TTC': 93,\n",
       " 'ATA': 23,\n",
       " 'TAG': 17,\n",
       " 'GTT': 57,\n",
       " 'GAC': 96,\n",
       " 'GTA': 41,\n",
       " 'TAC': 33,\n",
       " 'AAC': 49,\n",
       " 'GGT': 67,\n",
       " 'ATT': 47,\n",
       " 'GAG': 76,\n",
       " 'AAT': 40,\n",
       " 'CCC': 47,\n",
       " 'ACA': 60,\n",
       " 'TTA': 6,\n",
       " 'AGA': 40,\n",
       " 'TGT': 46,\n",
       " 'TAA': 6,\n",
       " 'TTT': 39,\n",
       " 'TAT': 29,\n",
       " 'ACT': 28,\n",
       " 'CTA': 15}"
      ]
     },
     "execution_count": 89,
     "metadata": {},
     "output_type": "execute_result"
    }
   ],
   "source": [
    "def repeated_substring(n, filename):\n",
    "    \"\"\"find all repeated substring of length n of a sequence in a fasta file\"\"\"\n",
    "    seq_dict = get_sequence(filename)\n",
    "    reads = seq_dict.values()\n",
    "    dict_track = {}\n",
    "    index = 0\n",
    "    for read in reads:\n",
    "        while index < len(read):\n",
    "            sub_string = read[index: index + n]\n",
    "            if len(sub_string) != n:\n",
    "                index += 1\n",
    "                continue\n",
    "            # print(len(sub_string), n)\n",
    "            if sub_string in dict_track:\n",
    "                dict_track[sub_string] += 1\n",
    "            else:\n",
    "                dict_track[sub_string] = 1\n",
    "            index += 1\n",
    "    print(\"Most frequent repeat\", find_maximum_values(dict_track))\n",
    "    return dict_track\n",
    "\n",
    "repeated_substring(3, \"dna.example.fasta\")\n"
   ]
  }
 ],
 "metadata": {
  "kernelspec": {
   "display_name": "Python 3",
   "language": "python",
   "name": "python3"
  },
  "language_info": {
   "codemirror_mode": {
    "name": "ipython",
    "version": 3
   },
   "file_extension": ".py",
   "mimetype": "text/x-python",
   "name": "python",
   "nbconvert_exporter": "python",
   "pygments_lexer": "ipython3",
   "version": "3.8.10"
  }
 },
 "nbformat": 4,
 "nbformat_minor": 2
}
