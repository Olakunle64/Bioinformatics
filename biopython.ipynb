{
 "cells": [
  {
   "cell_type": "code",
   "execution_count": 1,
   "metadata": {},
   "outputs": [
    {
     "name": "stdout",
     "output_type": "stream",
     "text": [
      "CATGTAGACTAG\n",
      "CATGTAGACTAG is 12 long\n",
      "Here is the reverse complement CTAGTCTACATG\n",
      "Here is the translation HVD*\n"
     ]
    }
   ],
   "source": [
    "from Bio.Seq import Seq\n",
    "\n",
    "my_seq = Seq(\"CATGTAGACTAG\")\n",
    "print(my_seq)\n",
    "print(f\"{my_seq} is {len(my_seq)} long\")\n",
    "print(f\"Here is the reverse complement {my_seq.reverse_complement()}\")\n",
    "print(f'Here is the translation {my_seq.translate()}')"
   ]
  },
  {
   "cell_type": "code",
   "execution_count": 11,
   "metadata": {},
   "outputs": [],
   "source": [
    "from Bio.Blast import NCBIWWW\n",
    "\n",
    "query_sequence = \"AGTACACTGGT\"\n",
    "\n",
    "result_seq = NCBIWWW.qblast(\"blastn\", \"nt\", query_sequence)\n",
    "# print(result_seq)"
   ]
  },
  {
   "cell_type": "code",
   "execution_count": 16,
   "metadata": {},
   "outputs": [],
   "source": [
    "from Bio.Blast import NCBIWWW, NCBIXML\n",
    "from io import StringIO\n",
    "\n",
    "query_sequence = \"TGGGCCTCATATTTATCCTATATACCATGTTCGTATGGTGGCGCGATGTTCTACGTGAATCCACGTTCGAAGGACATCATACCAAAGTCGTACAATTAGGACCTCGATATGGTTTTATTCTGTTTATCGTATCGGAGGTTATGTTCTTTTTTGCTCTTTTTCGGGCTTCTTCTCATTCTTCTTTGGCACCTACGGTAGAG\"\n",
    "result_seq = NCBIWWW.qblast(\"blastn\", \"nt\", query_sequence)\n",
    "\n",
    "# Read the result and store it as a string\n",
    "result_data = result_seq.read()\n",
    "\n",
    "# Convert the string into a file-like object using StringIO\n",
    "result_handle = StringIO(result_data)\n",
    "\n",
    "# Parse the BLAST output\n",
    "blast_record = NCBIXML.read(result_handle)\n",
    "\n",
    "for alignment in blast_record.alignments:\n",
    "    for hsp in alignment.hsps:  # High-scoring segment pairs\n",
    "        print(f\"****Alignment****\")\n",
    "        print(f\"Sequence: {alignment.title}\")\n",
    "        print(f\"Length: {alignment.length}\")\n",
    "        print(f\"e value: {hsp.expect}\")\n",
    "        print(f\"Query: {hsp.query}\")\n",
    "        print(f\"Match: {hsp.match}\")\n",
    "        print(f\"Subject: {hsp.sbjct}\")\n",
    "    break  # Only print the top hit\n"
   ]
  },
  {
   "cell_type": "code",
   "execution_count": 14,
   "metadata": {},
   "outputs": [
    {
     "data": {
      "text/plain": [
       "0.01"
      ]
     },
     "execution_count": 14,
     "metadata": {},
     "output_type": "execute_result"
    }
   ],
   "source": [
    "from Bio.Seq import Seq\n",
    "dna = \"TGGGCCTCATATTTATCCTATATACCATGTTCGTATGGTGGCGCGATGTTCTACGTGAATCCACGTTCGAAGGACATCATACCAAAGTCGTACAATTAGGACCTCGATATGGTTTTATTCTGTTTATCGTATCGGAGGTTATGTTCTTTTTTGCTCTTTTTCGGGCTTCTTCTCATTCTTCTTTGGCACCTACGGTAGAG\"\n",
    "seq = Seq(dna)\n",
    "print(seq.translate())"
   ]
  }
 ],
 "metadata": {
  "kernelspec": {
   "display_name": "Python 3",
   "language": "python",
   "name": "python3"
  },
  "language_info": {
   "codemirror_mode": {
    "name": "ipython",
    "version": 3
   },
   "file_extension": ".py",
   "mimetype": "text/x-python",
   "name": "python",
   "nbconvert_exporter": "python",
   "pygments_lexer": "ipython3",
   "version": "3.8.10"
  }
 },
 "nbformat": 4,
 "nbformat_minor": 2
}
